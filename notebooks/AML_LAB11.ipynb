
<!-- saved from url=(0096)https://moodle.innopolis.university/pluginfile.php/121827/mod_resource/content/1/AML_LAB11.ipynb -->
<html><script type="module" src="chrome-extension://jdkknkkbebbapilgoeccciglkfbmbnfm/hook.js"></script><head><meta http-equiv="Content-Type" content="text/html; charset=UTF-8"></head><body>{
 "cells": [
  {
   "cell_type": "markdown",
   "metadata": {
    "id": "VbgNACxW3Nqo"
   },
   "source": [
    "### Week 13: Interpretable AI\n",
    "```\n",
    "- Advanced Machine Learning, Innopolis University \n",
    "- Professor: Muhammad Fahim \n",
    "- Teaching Assistant: Gcinizwe Dlamini\n",
    "```\n",
    "<hr>\n",
    "\n",
    "```\n",
    "Lab Plan\n",
    "    1. Interpret Microsoft\n",
    "        - Glassbox Models\n",
    "        - Explainable Boosting Machine (EBM)\n",
    "    2. LIME\n",
    "        - Text Data\n",
    "        - Image Data\n",
    "    3. SHAP\n",
    "        - Background\n",
    "        - Force plots\n",
    "        - Dependence plots\n",
    " \n",
    "```\n",
    "\n",
    "<hr>"
   ]
  },
  {
   "cell_type": "markdown",
   "metadata": {
    "id": "iVX8qObaIaMI"
   },
   "source": [
    "# 1. Interpret Microsoft\n",
    "\n",
    "Interpret ML is an open-source package from (more contributions from microsoft) that incorporates state-of-the-art machine learning interpretability techniques. To install `pip install interpret` "
   ]
  },
  {
   "cell_type": "markdown",
   "metadata": {
    "id": "8Y8Go4lyIaMR"
   },
   "source": [
    "## Glassbox Models &amp; Explainable Boosting Machine\n",
    "\n",
    "These are learning algorithms that are designed to be interpretable i.e decision trees. With these models its possible to trace and reason about how any decision or prediction was made. \n",
    "<br>\n",
    "What are the disadvantages of such models?\n",
    "\n",
    "\n",
    "On top of commonly known interpretable classifiers Microsoft Research developed Explainable Boosting Machine (EBM). EBM uses modern machine learning techniques like bagging, gradient boosting, and automatic interaction detection along with Generalized Additive Models (GAMs)"
   ]
  },
  {
   "cell_type": "markdown",
   "metadata": {
    "id": "OFkEuYrNKiT5"
   },
   "source": [
    "### Example (Classification)"
   ]
  },
  {
   "cell_type": "code",
   "execution_count": 1,
   "metadata": {
    "colab": {
     "base_uri": "https://localhost:8080/",
     "height": 243
    },
    "id": "76bPMrGL6YqE",
    "outputId": "bf75985b-64c3-4775-b8fb-dd74fd45afa3"
   },
   "outputs": [
    {
     "data": {
      "text/html": [
       "<div>\n",
       "<style scoped="">\n",
       "    .dataframe tbody tr th:only-of-type {\n",
       "        vertical-align: middle;\n",
       "    }\n",
       "\n",
       "    .dataframe tbody tr th {\n",
       "        vertical-align: top;\n",
       "    }\n",
       "\n",
       "    .dataframe thead th {\n",
       "        text-align: right;\n",
       "    }\n",
       "</style>\n",
       "\n",
       "  \n",
       "    \n",
       "      \n",
       "      \n",
       "      \n",
       "      \n",
       "      \n",
       "      \n",
       "      \n",
       "      \n",
       "      \n",
       "      \n",
       "      \n",
       "    \n",
       "  \n",
       "  \n",
       "    \n",
       "      \n",
       "      \n",
       "      \n",
       "      \n",
       "      \n",
       "      \n",
       "      \n",
       "      \n",
       "      \n",
       "      \n",
       "      \n",
       "    \n",
       "    \n",
       "      \n",
       "      \n",
       "      \n",
       "      \n",
       "      \n",
       "      \n",
       "      \n",
       "      \n",
       "      \n",
       "      \n",
       "      \n",
       "    \n",
       "    \n",
       "      \n",
       "      \n",
       "      \n",
       "      \n",
       "      \n",
       "      \n",
       "      \n",
       "      \n",
       "      \n",
       "      \n",
       "      \n",
       "    \n",
       "    \n",
       "      \n",
       "      \n",
       "      \n",
       "      \n",
       "      \n",
       "      \n",
       "      \n",
       "      \n",
       "      \n",
       "      \n",
       "      \n",
       "    \n",
       "    \n",
       "      \n",
       "      \n",
       "      \n",
       "      \n",
       "      \n",
       "      \n",
       "      \n",
       "      \n",
       "      \n",
       "      \n",
       "      \n",
       "    \n",
       "  \n",
       "<table border="\&quot;1\&quot;" class="\&quot;dataframe\&quot;"><thead><tr style="\&quot;text-align:" right;\"=""><th></th><th>Hour</th><th>Temperature(�C)</th><th>Humidity(%)</th><th>Wind speed (m/s)</th><th>Visibility (10m)</th><th>Dew point temperature(�C)</th><th>Solar Radiation (MJ/m2)</th><th>Rainfall(mm)</th><th>Snowfall (cm)</th><th>target</th></tr></thead><tbody><tr><th>0</th><td>0</td><td>-5.2</td><td>37</td><td>2.2</td><td>2000</td><td>-17.6</td><td>0.0</td><td>0.0</td><td>0.0</td><td>0</td></tr><tr><th>1</th><td>1</td><td>-5.5</td><td>38</td><td>0.8</td><td>2000</td><td>-17.6</td><td>0.0</td><td>0.0</td><td>0.0</td><td>0</td></tr><tr><th>2</th><td>2</td><td>-6.0</td><td>39</td><td>1.0</td><td>2000</td><td>-17.7</td><td>0.0</td><td>0.0</td><td>0.0</td><td>0</td></tr><tr><th>3</th><td>3</td><td>-6.2</td><td>40</td><td>0.9</td><td>2000</td><td>-17.6</td><td>0.0</td><td>0.0</td><td>0.0</td><td>0</td></tr><tr><th>4</th><td>4</td><td>-6.0</td><td>36</td><td>2.3</td><td>2000</td><td>-18.6</td><td>0.0</td><td>0.0</td><td>0.0</td><td>0</td></tr></tbody></table>\n",
       "</div>"
      ],
      "text/plain": [
       "   Hour  Temperature(�C)  Humidity(%)  Wind speed (m/s)  Visibility (10m)  \\\n",
       "0     0             -5.2           37               2.2              2000   \n",
       "1     1             -5.5           38               0.8              2000   \n",
       "2     2             -6.0           39               1.0              2000   \n",
       "3     3             -6.2           40               0.9              2000   \n",
       "4     4             -6.0           36               2.3              2000   \n",
       "\n",
       "   Dew point temperature(�C)  Solar Radiation (MJ/m2)  Rainfall(mm)  \\\n",
       "0                      -17.6                      0.0           0.0   \n",
       "1                      -17.6                      0.0           0.0   \n",
       "2                      -17.7                      0.0           0.0   \n",
       "3                      -17.6                      0.0           0.0   \n",
       "4                      -18.6                      0.0           0.0   \n",
       "\n",
       "   Snowfall (cm)  target  \n",
       "0            0.0       0  \n",
       "1            0.0       0  \n",
       "2            0.0       0  \n",
       "3            0.0       0  \n",
       "4            0.0       0  "
      ]
     },
     "execution_count": 1,
     "metadata": {},
     "output_type": "execute_result"
    }
   ],
   "source": [
    "import pandas as pd\n",
    "import numpy as np\n",
    "\n",
    "data_path = \"../data/SeoulBikeData.csv\"\n",
    "\n",
    "df = pd.read_csv(data_path, engine='python')\n",
    "df = df.select_dtypes(include=[np.number]) #select columns with numerical data\n",
    "df[\"target\"] = df[\"Rented Bike Count\"].apply(lambda x : 1 if  x &gt; 500 else 0)\n",
    "df.drop([\"Rented Bike Count\"],axis=1,inplace=True)\n",
    "\n",
    "df.head()"
   ]
  },
  {
   "cell_type": "code",
   "execution_count": 2,
   "metadata": {
    "colab": {
     "base_uri": "https://localhost:8080/"
    },
    "id": "wj4_2SRnglRl",
    "outputId": "93a84b06-9be5-462b-faeb-0359eef9b080"
   },
   "outputs": [
    {
     "data": {
      "text/plain": [
       "Hour                           int64\n",
       "Temperature(�C)              float64\n",
       "Humidity(%)                    int64\n",
       "Wind speed (m/s)             float64\n",
       "Visibility (10m)               int64\n",
       "Dew point temperature(�C)    float64\n",
       "Solar Radiation (MJ/m2)      float64\n",
       "Rainfall(mm)                 float64\n",
       "Snowfall (cm)                float64\n",
       "target                         int64\n",
       "dtype: object"
      ]
     },
     "execution_count": 2,
     "metadata": {},
     "output_type": "execute_result"
    }
   ],
   "source": [
    "df.dtypes"
   ]
  },
  {
   "cell_type": "markdown",
   "metadata": {
    "id": "LT0e2bMaGq_p"
   },
   "source": [
    "## 1.1 Split data to train and test"
   ]
  },
  {
   "cell_type": "code",
   "execution_count": 3,
   "metadata": {
    "id": "5ehDs0js7PnN"
   },
   "outputs": [],
   "source": [
    "X_train, y_train = df.drop([\"target\"],axis=1)[:7008], df[\"target\"][:7008]\n",
    "X_test, y_test = df.drop([\"target\"],axis=1)[7008:], df[\"target\"][7008:]"
   ]
  },
  {
   "cell_type": "code",
   "execution_count": 4,
   "metadata": {
    "colab": {
     "base_uri": "https://localhost:8080/",
     "height": 759
    },
    "id": "qnuH_9OIiASZ",
    "outputId": "50b6f509-f1ea-4b03-9e9f-b2c87570a731"
   },
   "outputs": [
    {
     "data": {
      "text/html": [
       "<!-- http://127.0.0.1:7001/140465582211280/ -->\n",
       "<iframe src="./AML_LAB11.ipynb_files/_.html" width="100%" height="800" frameborder="\&quot;0\&quot;"></iframe>"
      ]
     },
     "metadata": {},
     "output_type": "display_data"
    }
   ],
   "source": [
    "from interpret import show\n",
    "from interpret.data import ClassHistogram\n",
    "\n",
    "hist = ClassHistogram().explain_data(X_train, y_train, name = 'Train Data')\n",
    "show(hist)"
   ]
  },
  {
   "cell_type": "markdown",
   "metadata": {
    "id": "I6B1mgiQNkRp"
   },
   "source": [
    "## 1.2 Create and fit Explainable Boosting Classifier"
   ]
  },
  {
   "cell_type": "code",
   "execution_count": 5,
   "metadata": {
    "colab": {
     "base_uri": "https://localhost:8080/"
    },
    "id": "OeLMi4AHiDY4",
    "outputId": "e9c5c48a-3638-42f9-f150-d1bef1fa3f16"
   },
   "outputs": [
    {
     "data": {
      "text/plain": [
       "ExplainableBoostingClassifier(feature_names=['Hour', 'Temperature(�C)',\n",
       "                                             'Humidity(%)', 'Wind speed (m/s)',\n",
       "                                             'Visibility (10m)',\n",
       "                                             'Dew point temperature(�C)',\n",
       "                                             'Solar Radiation (MJ/m2)',\n",
       "                                             'Rainfall(mm)', 'Snowfall (cm)',\n",
       "                                             'Hour x Temperature(�C)',\n",
       "                                             'Hour x Dew point temperature(�C)',\n",
       "                                             'Hour x Humidity(%)',\n",
       "                                             'Hour x Visibility (10m)',\n",
       "                                             'Solar Radiation (MJ/m2) x '\n",
       "                                             'Rainfall(mm)',\n",
       "                                             'Temperature(�C)...\n",
       "                                             'Humidity(%) x Visibility (10m)',\n",
       "                                             'Humidity(%) x Solar Radiation '\n",
       "                                             '(MJ/m2)'],\n",
       "                              feature_types=['continuous', 'continuous',\n",
       "                                             'continuous', 'continuous',\n",
       "                                             'continuous', 'continuous',\n",
       "                                             'continuous', 'continuous',\n",
       "                                             'continuous', 'interaction',\n",
       "                                             'interaction', 'interaction',\n",
       "                                             'interaction', 'interaction',\n",
       "                                             'interaction', 'interaction',\n",
       "                                             'interaction', 'interaction',\n",
       "                                             'interaction'],\n",
       "                              random_state=5291)"
      ]
     },
     "execution_count": 5,
     "metadata": {},
     "output_type": "execute_result"
    }
   ],
   "source": [
    "from interpret.glassbox import ExplainableBoostingClassifier, LogisticRegression, ClassificationTree, DecisionListClassifier\n",
    "seed = 1\n",
    "ebm = ExplainableBoostingClassifier(random_state=5291)\n",
    "ebm.fit(X_train, y_train)   #Works on dataframes and numpy arrays"
   ]
  },
  {
   "cell_type": "code",
   "execution_count": 6,
   "metadata": {
    "colab": {
     "base_uri": "https://localhost:8080/",
     "height": 759
    },
    "id": "xQIiokPtiFfQ",
    "outputId": "6d91bf41-7ef5-433f-c297-55199612b9c3",
    "scrolled": false
   },
   "outputs": [
    {
     "data": {
      "text/html": [
       "<!-- http://127.0.0.1:7001/140464334626144/ -->\n",
       "<iframe src="./AML_LAB11.ipynb_files/_(1).html" width="100%" height="800" frameborder="\&quot;0\&quot;"></iframe>"
      ]
     },
     "metadata": {},
     "output_type": "display_data"
    }
   ],
   "source": [
    "ebm_global = ebm.explain_global(name='EBM')\n",
    "show(ebm_global)"
   ]
  },
  {
   "cell_type": "markdown",
   "metadata": {
    "id": "MDEbRmvFNtdo"
   },
   "source": [
    "## 1.3 Explain the prediction for specific sample"
   ]
  },
  {
   "cell_type": "code",
   "execution_count": 7,
   "metadata": {
    "colab": {
     "base_uri": "https://localhost:8080/",
     "height": 759
    },
    "id": "zj9pc7KiiIYM",
    "outputId": "575de1c7-5110-49a4-e437-7d62b75e1b43",
    "scrolled": false
   },
   "outputs": [
    {
     "data": {
      "text/html": [
       "<!-- http://127.0.0.1:7001/140464774858688/ -->\n",
       "<iframe src="./AML_LAB11.ipynb_files/_(2).html" width="100%" height="800" frameborder="\&quot;0\&quot;"></iframe>"
      ]
     },
     "metadata": {},
     "output_type": "display_data"
    }
   ],
   "source": [
    "ebm_local = ebm.explain_local(X_test[:5], y_test[:5], name='EBM')\n",
    "show(ebm_local)"
   ]
  },
  {
   "cell_type": "code",
   "execution_count": 8,
   "metadata": {
    "colab": {
     "base_uri": "https://localhost:8080/",
     "height": 759
    },
    "id": "0Zcpssq2iKSs",
    "outputId": "e8202ca3-8536-4609-a677-441a497645e0"
   },
   "outputs": [
    {
     "data": {
      "text/html": [
       "<!-- http://127.0.0.1:7001/140464775951696/ -->\n",
       "<iframe src="./AML_LAB11.ipynb_files/_(3).html" width="100%" height="800" frameborder="\&quot;0\&quot;"></iframe>"
      ]
     },
     "metadata": {},
     "output_type": "display_data"
    }
   ],
   "source": [
    "from interpret.perf import ROC\n",
    "\n",
    "ebm_perf = ROC(ebm.predict_proba).explain_perf(X_test, y_test, name='EBM')\n",
    "show(ebm_perf)"
   ]
  },
  {
   "cell_type": "markdown",
   "metadata": {
    "id": "LFxwapeBORif"
   },
   "source": [
    "## 1.4 Fit Logistic Regression and Classification Tree"
   ]
  },
  {
   "cell_type": "code",
   "execution_count": 9,
   "metadata": {
    "colab": {
     "base_uri": "https://localhost:8080/"
    },
    "id": "U5Lxt-70iNid",
    "outputId": "43b10214-6692-4537-eac4-f8ed3e04be95"
   },
   "outputs": [
    {
     "data": {
      "text/plain": [
       "<interpret.glassbox.decisiontree.classificationtree at="" 0x7fc080ec8e80="">"
      ]
     },
     "execution_count": 9,
     "metadata": {},
     "output_type": "execute_result"
    }
   ],
   "source": [
    "from interpret.glassbox import LogisticRegression, ClassificationTree\n",
    "\n",
    "lr = LogisticRegression(random_state=seed, feature_names=list(X_train.columns), penalty='l1', solver='liblinear')\n",
    "lr.fit(X_train, y_train)\n",
    "\n",
    "tree = ClassificationTree()\n",
    "tree.fit(X_train, y_train)"
   ]
  },
  {
   "cell_type": "code",
   "execution_count": 10,
   "metadata": {
    "colab": {
     "base_uri": "https://localhost:8080/",
     "height": 1000
    },
    "id": "eFXQ3BSLiPxB",
    "outputId": "8fe1d198-d337-4d75-df71-d89524355a39",
    "scrolled": false
   },
   "outputs": [
    {
     "data": {
      "text/html": [
       "<!-- http://127.0.0.1:7001/140464447983184/ -->\n",
       "<iframe src="./AML_LAB11.ipynb_files/_(4).html" width="100%" height="800" frameborder="\&quot;0\&quot;"></iframe>"
      ]
     },
     "metadata": {},
     "output_type": "display_data"
    },
    {
     "data": {
      "text/html": [
       "<!-- http://127.0.0.1:7001/140464773667568/ -->\n",
       "<iframe src="./AML_LAB11.ipynb_files/_(5).html" width="100%" height="800" frameborder="\&quot;0\&quot;"></iframe>"
      ]
     },
     "metadata": {},
     "output_type": "display_data"
    },
    {
     "data": {
      "text/html": [
       "<!-- http://127.0.0.1:7001/140464775951696/ -->\n",
       "<iframe src="./AML_LAB11.ipynb_files/_(6).html" width="100%" height="800" frameborder="\&quot;0\&quot;"></iframe>"
      ]
     },
     "metadata": {},
     "output_type": "display_data"
    }
   ],
   "source": [
    "lr_perf = ROC(lr.predict_proba).explain_perf(X_test, y_test, name='Logistic Regression')\n",
    "tree_perf = ROC(tree.predict_proba).explain_perf(X_test, y_test, name='Classification Tree')\n",
    "\n",
    "show(lr_perf)\n",
    "show(tree_perf)\n",
    "show(ebm_perf)"
   ]
  },
  {
   "cell_type": "code",
   "execution_count": 11,
   "metadata": {
    "colab": {
     "base_uri": "https://localhost:8080/",
     "height": 1000
    },
    "id": "GQnHpTjviRQS",
    "outputId": "acf54ca2-a133-48c3-ae22-9fbf720ab1b5",
    "scrolled": false
   },
   "outputs": [
    {
     "data": {
      "text/html": [
       "<!-- http://127.0.0.1:7001/140464773449664/ -->\n",
       "<iframe src="./AML_LAB11.ipynb_files/_(7).html" width="100%" height="800" frameborder="\&quot;0\&quot;"></iframe>"
      ]
     },
     "metadata": {},
     "output_type": "display_data"
    },
    {
     "data": {
      "text/html": [
       "<!-- http://127.0.0.1:7001/140464773168384/ -->\n",
       "<iframe src="./AML_LAB11.ipynb_files/_(8).html" width="100%" height="800" frameborder="\&quot;0\&quot;"></iframe>"
      ]
     },
     "metadata": {},
     "output_type": "display_data"
    },
    {
     "data": {
      "text/html": [
       "<!-- http://127.0.0.1:7001/140464334626144/ -->\n",
       "<iframe src="./AML_LAB11.ipynb_files/_(9).html" width="100%" height="800" frameborder="\&quot;0\&quot;"></iframe>"
      ]
     },
     "metadata": {},
     "output_type": "display_data"
    }
   ],
   "source": [
    "lr_global = lr.explain_global(name='LR')\n",
    "tree_global = tree.explain_global(name='Tree')\n",
    "\n",
    "show(lr_global)\n",
    "show(tree_global)\n",
    "show(ebm_global)"
   ]
  },
  {
   "cell_type": "markdown",
   "metadata": {},
   "source": [
    "## 1.5 Create a Dashboard for comparing models"
   ]
  },
  {
   "cell_type": "code",
   "execution_count": 12,
   "metadata": {
    "colab": {
     "base_uri": "https://localhost:8080/",
     "height": 759
    },
    "id": "2zVUnK4WiTAH",
    "outputId": "f8f55af4-ee4b-47ee-9f7a-0a5e4782b469",
    "scrolled": false
   },
   "outputs": [
    {
     "data": {
      "text/html": [
       "<!-- http://127.0.0.1:7001/140464775089984/ -->\n",
       "<a href="https://moodle.innopolis.university/%22http://127.0.0.1:7001/140464775089984//%22" target="\&quot;_new\&quot;">Open in new window</a><iframe src="./AML_LAB11.ipynb_files/_(10).html" width="100%" height="800" frameborder="\&quot;0\&quot;"></iframe>"
      ]
     },
     "metadata": {},
     "output_type": "display_data"
    }
   ],
   "source": [
    "\n",
    "# Do everything in one shot with the InterpretML Dashboard by passing a list into show\n",
    "\n",
    "show([hist, lr_global, lr_perf, tree_global, tree_perf, ebm_global, ebm_perf], share_tables=True)"
   ]
  },
  {
   "cell_type": "markdown",
   "metadata": {
    "id": "SQZ_IzJoIaNE"
   },
   "source": [
    "## 1.5 Interpretable Regression Methods"
   ]
  },
  {
   "cell_type": "code",
   "execution_count": 13,
   "metadata": {
    "id": "Lb9NwB9BIaNF"
   },
   "outputs": [],
   "source": [
    "import pandas as pd\n",
    "from sklearn.datasets import load_boston\n",
    "from sklearn.model_selection import train_test_split\n",
    "\n",
    "boston = load_boston()\n",
    "feature_names = list(boston.feature_names)\n",
    "df = pd.DataFrame(boston.data, columns=feature_names)\n",
    "df[\"target\"] = boston.target\n",
    "\n",
    "train_cols = df.columns[0:-1]\n",
    "label = df.columns[-1]\n",
    "X = df[train_cols]\n",
    "y = df[label]\n",
    "\n",
    "seed = 1\n",
    "X_train, X_test, y_train, y_test = train_test_split(X, y, test_size=0.20, random_state=seed)"
   ]
  },
  {
   "cell_type": "code",
   "execution_count": 14,
   "metadata": {
    "colab": {
     "base_uri": "https://localhost:8080/",
     "height": 759
    },
    "id": "q_WZ4-3cIaNH",
    "outputId": "5b25c057-2628-4af0-ce29-c4a39c1fabb0"
   },
   "outputs": [
    {
     "data": {
      "text/html": [
       "<!-- http://127.0.0.1:7001/140464985230928/ -->\n",
       "<iframe src="./AML_LAB11.ipynb_files/_(11).html" width="100%" height="800" frameborder="\&quot;0\&quot;"></iframe>"
      ]
     },
     "metadata": {},
     "output_type": "display_data"
    }
   ],
   "source": [
    "from interpret import show\n",
    "from interpret.data import Marginal\n",
    "\n",
    "marginal = Marginal().explain_data(X_train, y_train, name = 'Train Data')\n",
    "show(marginal)"
   ]
  },
  {
   "cell_type": "code",
   "execution_count": 15,
   "metadata": {
    "colab": {
     "base_uri": "https://localhost:8080/"
    },
    "id": "JAcYJvQ2IaNJ",
    "outputId": "4862a1b1-a0ca-450c-ddbe-ffaae435f777"
   },
   "outputs": [
    {
     "data": {
      "text/plain": [
       "ExplainableBoostingRegressor(feature_names=['CRIM', 'ZN', 'INDUS', 'CHAS',\n",
       "                                            'NOX', 'RM', 'AGE', 'DIS', 'RAD',\n",
       "                                            'TAX', 'PTRATIO', 'B', 'LSTAT',\n",
       "                                            'DIS x LSTAT', 'CRIM x LSTAT',\n",
       "                                            'AGE x LSTAT', 'DIS x B',\n",
       "                                            'NOX x LSTAT', 'INDUS x LSTAT',\n",
       "                                            'TAX x LSTAT', 'B x LSTAT',\n",
       "                                            'RM x LSTAT', 'RAD x LSTAT'],\n",
       "                             feature_types=['continuous', 'continuous',\n",
       "                                            'continuous', 'categorical',\n",
       "                                            'continuous', 'continuous',\n",
       "                                            'continuous', 'continuous',\n",
       "                                            'continuous', 'continuous',\n",
       "                                            'continuous', 'continuous',\n",
       "                                            'continuous', 'interaction',\n",
       "                                            'interaction', 'interaction',\n",
       "                                            'interaction', 'interaction',\n",
       "                                            'interaction', 'interaction',\n",
       "                                            'interaction', 'interaction',\n",
       "                                            'interaction'],\n",
       "                             random_state=1)"
      ]
     },
     "execution_count": 15,
     "metadata": {},
     "output_type": "execute_result"
    }
   ],
   "source": [
    "from interpret.glassbox import ExplainableBoostingRegressor, LinearRegression, RegressionTree\n",
    "\n",
    "ebm = ExplainableBoostingRegressor(random_state=seed)\n",
    "ebm.fit(X_train, y_train)   #Works on dataframes and numpy arrays"
   ]
  },
  {
   "cell_type": "code",
   "execution_count": 16,
   "metadata": {
    "colab": {
     "base_uri": "https://localhost:8080/",
     "height": 759
    },
    "id": "5HY_5f-HIaNK",
    "outputId": "956ea05c-30a7-4d87-90e3-2c43b45d3185"
   },
   "outputs": [
    {
     "data": {
      "text/html": [
       "<!-- http://127.0.0.1:7001/140464775851552/ -->\n",
       "<iframe src="./AML_LAB11.ipynb_files/_(12).html" width="100%" height="800" frameborder="\&quot;0\&quot;"></iframe>"
      ]
     },
     "metadata": {},
     "output_type": "display_data"
    }
   ],
   "source": [
    "ebm_global = ebm.explain_global(name='EBM')\n",
    "show(ebm_global)"
   ]
  },
  {
   "cell_type": "code",
   "execution_count": 17,
   "metadata": {
    "id": "NVps6wBWIaNM"
   },
   "outputs": [
    {
     "data": {
      "text/html": [
       "<!-- http://127.0.0.1:7001/140464844638288/ -->\n",
       "<iframe src="./AML_LAB11.ipynb_files/_(13).html" width="100%" height="800" frameborder="\&quot;0\&quot;"></iframe>"
      ]
     },
     "metadata": {},
     "output_type": "display_data"
    }
   ],
   "source": [
    "ebm_local = ebm.explain_local(X_test[:5], y_test[:5], name='EBM')\n",
    "show(ebm_local)"
   ]
  },
  {
   "cell_type": "code",
   "execution_count": 18,
   "metadata": {
    "colab": {
     "base_uri": "https://localhost:8080/",
     "height": 759
    },
    "id": "afImpqmBIaNO",
    "outputId": "f77904f4-7aaa-418b-eae2-265e2ad33971"
   },
   "outputs": [
    {
     "data": {
      "text/html": [
       "<!-- http://127.0.0.1:7001/140464760128992/ -->\n",
       "<iframe src="./AML_LAB11.ipynb_files/_(14).html" width="100%" height="800" frameborder="\&quot;0\&quot;"></iframe>"
      ]
     },
     "metadata": {},
     "output_type": "display_data"
    }
   ],
   "source": [
    "from interpret import show\n",
    "from interpret.perf import RegressionPerf\n",
    "\n",
    "ebm_perf = RegressionPerf(ebm.predict).explain_perf(X_test, y_test, name='EBM')\n",
    "show(ebm_perf)"
   ]
  },
  {
   "cell_type": "code",
   "execution_count": 19,
   "metadata": {
    "colab": {
     "base_uri": "https://localhost:8080/"
    },
    "id": "M2ljojhWIaNQ",
    "outputId": "31c5a24d-c7d9-4215-eb37-dec250896c7d"
   },
   "outputs": [
    {
     "data": {
      "text/plain": [
       "<interpret.glassbox.decisiontree.regressiontree at="" 0x7fc080ec8e50="">"
      ]
     },
     "execution_count": 19,
     "metadata": {},
     "output_type": "execute_result"
    }
   ],
   "source": [
    "from interpret.glassbox import LinearRegression, RegressionTree\n",
    "\n",
    "lr = LinearRegression(random_state=seed)\n",
    "lr.fit(X_train, y_train)\n",
    "\n",
    "rt = RegressionTree(random_state=seed)\n",
    "rt.fit(X_train, y_train)"
   ]
  },
  {
   "cell_type": "code",
   "execution_count": 20,
   "metadata": {
    "colab": {
     "base_uri": "https://localhost:8080/",
     "height": 1000
    },
    "id": "PmB_ngdoIaNR",
    "outputId": "f0800c5f-1672-4646-9efc-8a39422dc16c"
   },
   "outputs": [
    {
     "data": {
      "text/html": [
       "<!-- http://127.0.0.1:7001/140464774831744/ -->\n",
       "<iframe src="./AML_LAB11.ipynb_files/_(15).html" width="100%" height="800" frameborder="\&quot;0\&quot;"></iframe>"
      ]
     },
     "metadata": {},
     "output_type": "display_data"
    },
    {
     "data": {
      "text/html": [
       "<!-- http://127.0.0.1:7001/140464760128608/ -->\n",
       "<iframe src="./AML_LAB11.ipynb_files/_(16).html" width="100%" height="800" frameborder="\&quot;0\&quot;"></iframe>"
      ]
     },
     "metadata": {},
     "output_type": "display_data"
    },
    {
     "data": {
      "text/html": [
       "<!-- http://127.0.0.1:7001/140464760128992/ -->\n",
       "<iframe src="./AML_LAB11.ipynb_files/_(17).html" width="100%" height="800" frameborder="\&quot;0\&quot;"></iframe>"
      ]
     },
     "metadata": {},
     "output_type": "display_data"
    }
   ],
   "source": [
    "lr_perf = RegressionPerf(lr.predict).explain_perf(X_test, y_test, name='Linear Regression')\n",
    "rt_perf = RegressionPerf(rt.predict).explain_perf(X_test, y_test, name='Regression Tree')\n",
    "\n",
    "show(lr_perf)\n",
    "show(rt_perf)\n",
    "show(ebm_perf)"
   ]
  },
  {
   "cell_type": "code",
   "execution_count": 21,
   "metadata": {
    "colab": {
     "base_uri": "https://localhost:8080/",
     "height": 1000
    },
    "id": "BM7j_4JHIaNT",
    "outputId": "600f0ee6-f024-48e6-df15-778e9c753a5b",
    "scrolled": false
   },
   "outputs": [
    {
     "data": {
      "text/html": [
       "<!-- http://127.0.0.1:7001/140464764396592/ -->\n",
       "<iframe src="./AML_LAB11.ipynb_files/_(18).html" width="100%" height="800" frameborder="\&quot;0\&quot;"></iframe>"
      ]
     },
     "metadata": {},
     "output_type": "display_data"
    },
    {
     "data": {
      "text/html": [
       "<!-- http://127.0.0.1:7001/140464764544192/ -->\n",
       "<iframe src="./AML_LAB11.ipynb_files/_(19).html" width="100%" height="800" frameborder="\&quot;0\&quot;"></iframe>"
      ]
     },
     "metadata": {},
     "output_type": "display_data"
    },
    {
     "data": {
      "text/html": [
       "<!-- http://127.0.0.1:7001/140464775851552/ -->\n",
       "<iframe src="./AML_LAB11.ipynb_files/_(20).html" width="100%" height="800" frameborder="\&quot;0\&quot;"></iframe>"
      ]
     },
     "metadata": {},
     "output_type": "display_data"
    }
   ],
   "source": [
    "lr_global = lr.explain_global(name='Linear Regression')\n",
    "rt_global = rt.explain_global(name='Regression Tree')\n",
    "\n",
    "show(lr_global)\n",
    "show(rt_global)\n",
    "show(ebm_global)"
   ]
  },
  {
   "cell_type": "code",
   "execution_count": 22,
   "metadata": {
    "colab": {
     "base_uri": "https://localhost:8080/",
     "height": 759
    },
    "id": "QZIYQQU2IaNU",
    "outputId": "e204137e-790d-4bcf-ff00-8acee413d21e"
   },
   "outputs": [
    {
     "data": {
      "text/html": [
       "<!-- http://127.0.0.1:7001/140464764085440/ -->\n",
       "<a href="https://moodle.innopolis.university/%22http://127.0.0.1:7001/140464764085440//%22" target="\&quot;_new\&quot;">Open in new window</a><iframe src="./AML_LAB11.ipynb_files/_(21).html" width="100%" height="800" frameborder="\&quot;0\&quot;"></iframe>"
      ]
     },
     "metadata": {},
     "output_type": "display_data"
    }
   ],
   "source": [
    "show([marginal, lr_global, lr_perf, rt_global, rt_perf, ebm_global, ebm_perf])"
   ]
  },
  {
   "cell_type": "markdown",
   "metadata": {
    "id": "D-lculnYIaNW"
   },
   "source": [
    "## Explaining Blackbox Regressors"
   ]
  },
  {
   "cell_type": "code",
   "execution_count": 23,
   "metadata": {
    "id": "G4HW4ppJIaNW"
   },
   "outputs": [],
   "source": [
    "import pandas as pd\n",
    "from sklearn.datasets import load_boston\n",
    "from sklearn.model_selection import train_test_split\n",
    "\n",
    "boston = load_boston()\n",
    "feature_names = list(boston.feature_names)\n",
    "df = pd.DataFrame(boston.data, columns=feature_names)\n",
    "df[\"target\"] = boston.target\n",
    "# df = df.sample(frac=0.1, random_state=1)\n",
    "train_cols = df.columns[0:-1]\n",
    "label = df.columns[-1]\n",
    "X = df[train_cols]\n",
    "y = df[label]\n",
    "\n",
    "seed = 1\n",
    "X_train, X_test, y_train, y_test = train_test_split(X, y, test_size=0.20, random_state=seed)"
   ]
  },
  {
   "cell_type": "code",
   "execution_count": 24,
   "metadata": {
    "colab": {
     "base_uri": "https://localhost:8080/"
    },
    "id": "4wZgE0bhIaNX",
    "outputId": "9fa6e5b4-1e94-4046-e72e-a7834834e72a"
   },
   "outputs": [
    {
     "data": {
      "text/plain": [
       "Pipeline(steps=[('pca', PCA()), ('rf', RandomForestRegressor(n_jobs=-1))])"
      ]
     },
     "execution_count": 24,
     "metadata": {},
     "output_type": "execute_result"
    }
   ],
   "source": [
    "from sklearn.ensemble import RandomForestRegressor\n",
    "from sklearn.decomposition import PCA\n",
    "from sklearn.pipeline import Pipeline\n",
    "\n",
    "#Blackbox system can include preprocessing, not just a regressor!\n",
    "pca = PCA()\n",
    "rf = RandomForestRegressor(n_estimators=100, n_jobs=-1)\n",
    "\n",
    "blackbox_model = Pipeline([('pca', pca), ('rf', rf)])\n",
    "blackbox_model.fit(X_train, y_train)"
   ]
  },
  {
   "cell_type": "code",
   "execution_count": 25,
   "metadata": {
    "colab": {
     "base_uri": "https://localhost:8080/",
     "height": 759
    },
    "id": "catMnkdkIaNZ",
    "outputId": "e900e05d-4d16-4d47-8829-e7ee0e2a1cf2"
   },
   "outputs": [
    {
     "data": {
      "text/html": [
       "<!-- http://127.0.0.1:7001/140464763974800/ -->\n",
       "<iframe src="./AML_LAB11.ipynb_files/_(22).html" width="100%" height="800" frameborder="\&quot;0\&quot;"></iframe>"
      ]
     },
     "metadata": {},
     "output_type": "display_data"
    }
   ],
   "source": [
    "from interpret import show\n",
    "from interpret.perf import RegressionPerf\n",
    "\n",
    "blackbox_perf = RegressionPerf(blackbox_model.predict).explain_perf(X_test, y_test, name='Blackbox')\n",
    "show(blackbox_perf)"
   ]
  },
  {
   "cell_type": "code",
   "execution_count": 26,
   "metadata": {
    "colab": {
     "base_uri": "https://localhost:8080/",
     "height": 759
    },
    "id": "TmsML9P-IaNa",
    "outputId": "0da888de-4a32-40ed-d61b-ef5eb6f5d9d3"
   },
   "outputs": [
    {
     "data": {
      "text/html": [
       "<!-- http://127.0.0.1:7001/140464772791360/ -->\n",
       "<iframe src="./AML_LAB11.ipynb_files/_(23).html" width="100%" height="800" frameborder="\&quot;0\&quot;"></iframe>"
      ]
     },
     "metadata": {},
     "output_type": "display_data"
    }
   ],
   "source": [
    "from interpret.blackbox import LimeTabular\n",
    "from interpret import show\n",
    "\n",
    "#Blackbox explainers need a predict function, and optionally a dataset\n",
    "lime = LimeTabular(predict_fn=blackbox_model.predict, data=X_train, random_state=1)\n",
    "\n",
    "#Pick the instances to explain, optionally pass in labels if you have them\n",
    "lime_local = lime.explain_local(X_test[5:10], y_test[5:10], name='LIME')\n",
    "\n",
    "show(lime_local)"
   ]
  },
  {
   "cell_type": "code",
   "execution_count": 27,
   "metadata": {
    "colab": {
     "base_uri": "https://localhost:8080/",
     "height": 759
    },
    "id": "iig9D8MfIaNc",
    "outputId": "a3f9b1d5-84f4-48d4-c9e0-99fea5f339af"
   },
   "outputs": [
    {
     "data": {
      "text/html": [
       "<!-- http://127.0.0.1:7001/140464154583872/ -->\n",
       "<iframe src="./AML_LAB11.ipynb_files/_(24).html" width="100%" height="800" frameborder="\&quot;0\&quot;"></iframe>"
      ]
     },
     "metadata": {},
     "output_type": "display_data"
    }
   ],
   "source": [
    "from interpret.blackbox import MorrisSensitivity\n",
    "\n",
    "sensitivity = MorrisSensitivity(predict_fn=blackbox_model.predict, data=X_train)\n",
    "sensitivity_global = sensitivity.explain_global(name=\"Global Sensitivity\")\n",
    "\n",
    "show(sensitivity_global)"
   ]
  },
  {
   "cell_type": "code",
   "execution_count": 28,
   "metadata": {
    "colab": {
     "base_uri": "https://localhost:8080/",
     "height": 759
    },
    "id": "xX3HrkgvIaNd",
    "outputId": "4d40ed89-0514-4b89-b3b2-9d510c38ad33"
   },
   "outputs": [
    {
     "data": {
      "text/html": [
       "<!-- http://127.0.0.1:7001/140464773450912/ -->\n",
       "<iframe src="./AML_LAB11.ipynb_files/_(25).html" width="100%" height="800" frameborder="\&quot;0\&quot;"></iframe>"
      ]
     },
     "metadata": {},
     "output_type": "display_data"
    }
   ],
   "source": [
    "from interpret.blackbox import PartialDependence\n",
    "\n",
    "pdp = PartialDependence(predict_fn=blackbox_model.predict, data=X_train)\n",
    "pdp_global = pdp.explain_global(name='Partial Dependence')\n",
    "\n",
    "show(pdp_global)"
   ]
  },
  {
   "cell_type": "code",
   "execution_count": 29,
   "metadata": {
    "id": "HP7PzmuIIaNf"
   },
   "outputs": [
    {
     "data": {
      "text/html": [
       "<!-- http://127.0.0.1:7001/140464772035712/ -->\n",
       "<a href="https://moodle.innopolis.university/%22http://127.0.0.1:7001/140464772035712//%22" target="\&quot;_new\&quot;">Open in new window</a><iframe src="./AML_LAB11.ipynb_files/_(26).html" width="100%" height="800" frameborder="\&quot;0\&quot;"></iframe>"
      ]
     },
     "metadata": {},
     "output_type": "display_data"
    }
   ],
   "source": [
    "show([blackbox_perf, lime_local, sensitivity_global, pdp_global])"
   ]
  },
  {
   "cell_type": "markdown",
   "metadata": {
    "id": "if4Rq42UIaNh"
   },
   "source": [
    "# 2. LIME"
   ]
  },
  {
   "cell_type": "code",
   "execution_count": null,
   "metadata": {
    "id": "wR22vqK2IaNh"
   },
   "outputs": [],
   "source": [
    "!pip install lime"
   ]
  },
  {
   "cell_type": "markdown",
   "metadata": {
    "id": "Hk_Bd6DZIaNi"
   },
   "source": [
    "## 2.1 Text data\n",
    "\n",
    "Dataset comprises around 18000 newsgroups posts on 20 topics. Data available from `sklearn.datasets`. For this example we will use only two topics : `alt.atheism` &amp; `soc.religion.christian`"
   ]
  },
  {
   "cell_type": "code",
   "execution_count": 30,
   "metadata": {
    "id": "3n61elgFIaNj"
   },
   "outputs": [],
   "source": [
    "import lime\n",
    "import sklearn\n",
    "import numpy as np\n",
    "import sklearn.ensemble\n",
    "import sklearn.metrics\n",
    "from lime import lime_text\n",
    "from sklearn.pipeline import make_pipeline"
   ]
  },
  {
   "cell_type": "markdown",
   "metadata": {
    "id": "ADOYC83fjalq"
   },
   "source": [
    "## 2.2 Read Dataset and Split (train &amp; test)"
   ]
  },
  {
   "cell_type": "code",
   "execution_count": 31,
   "metadata": {
    "colab": {
     "base_uri": "https://localhost:8080/"
    },
    "id": "bSGt3aaHIaNk",
    "outputId": "c9339ce4-2020-4a38-bd40-aa416e288ca8"
   },
   "outputs": [],
   "source": [
    "from sklearn.datasets import fetch_20newsgroups\n",
    "categories = ['alt.atheism', 'soc.religion.christian']\n",
    "newsgroups_train = fetch_20newsgroups(subset='train', categories=categories)\n",
    "newsgroups_test = fetch_20newsgroups(subset='test', categories=categories)\n",
    "class_names = ['atheism', 'christian']"
   ]
  },
  {
   "cell_type": "markdown",
   "metadata": {
    "id": "w_m4fcJhjoM6"
   },
   "source": [
    "## 2.3 Extract features with TF-IDF"
   ]
  },
  {
   "cell_type": "code",
   "execution_count": 32,
   "metadata": {
    "id": "LggZpEjdIaNm"
   },
   "outputs": [],
   "source": [
    "vectorizer = sklearn.feature_extraction.text.TfidfVectorizer(lowercase=False)\n",
    "train_vectors = vectorizer.fit_transform(newsgroups_train.data)\n",
    "test_vectors = vectorizer.transform(newsgroups_test.data)"
   ]
  },
  {
   "cell_type": "markdown",
   "metadata": {
    "id": "exorCGuBj2Hu"
   },
   "source": [
    "## 2.4 Train a simple ML classifier "
   ]
  },
  {
   "cell_type": "code",
   "execution_count": 33,
   "metadata": {
    "colab": {
     "base_uri": "https://localhost:8080/"
    },
    "id": "U2pfSOipIaNn",
    "outputId": "edf040a2-fb9c-486a-e3f6-d291f5e18d18"
   },
   "outputs": [
    {
     "data": {
      "text/plain": [
       "RandomForestClassifier(n_estimators=500)"
      ]
     },
     "execution_count": 33,
     "metadata": {},
     "output_type": "execute_result"
    }
   ],
   "source": [
    "rf = sklearn.ensemble.RandomForestClassifier(n_estimators=500)\n",
    "rf.fit(train_vectors, newsgroups_train.target)"
   ]
  },
  {
   "cell_type": "code",
   "execution_count": 34,
   "metadata": {
    "colab": {
     "base_uri": "https://localhost:8080/"
    },
    "id": "6Fg7eRnJIaNp",
    "outputId": "b5d8011c-b275-40bb-f1e6-ee2590ca92d1"
   },
   "outputs": [
    {
     "data": {
      "text/plain": [
       "0.9241540256709451"
      ]
     },
     "execution_count": 34,
     "metadata": {},
     "output_type": "execute_result"
    }
   ],
   "source": [
    "pred = rf.predict(test_vectors)\n",
    "sklearn.metrics.f1_score(newsgroups_test.target, pred, average='binary')"
   ]
  },
  {
   "cell_type": "markdown",
   "metadata": {
    "id": "0IngHEvjkkZi"
   },
   "source": [
    "## 2.5 Create text classification pipeline"
   ]
  },
  {
   "cell_type": "code",
   "execution_count": 35,
   "metadata": {
    "colab": {
     "base_uri": "https://localhost:8080/"
    },
    "id": "V_M-hVyWIaNs",
    "outputId": "cc0b81d4-389e-4ff4-bb7f-90ca06fcdc6c"
   },
   "outputs": [
    {
     "name": "stdout",
     "output_type": "stream",
     "text": [
      "[[0.306 0.694]]\n"
     ]
    }
   ],
   "source": [
    "text_classification_pipeline = make_pipeline(vectorizer, rf)\n",
    "print(text_classification_pipeline.predict_proba([newsgroups_test.data[0]]))"
   ]
  },
  {
   "cell_type": "markdown",
   "metadata": {},
   "source": [
    "## 2.6 Create a text explainer "
   ]
  },
  {
   "cell_type": "code",
   "execution_count": 36,
   "metadata": {
    "id": "ULEovVOaIaNu"
   },
   "outputs": [],
   "source": [
    "from lime.lime_text import LimeTextExplainer\n",
    "explainer = LimeTextExplainer(class_names=class_names)"
   ]
  },
  {
   "cell_type": "code",
   "execution_count": 45,
   "metadata": {
    "colab": {
     "base_uri": "https://localhost:8080/"
    },
    "id": "UlUMEjWFIaNv",
    "outputId": "3b2860d4-b21e-4019-ac6c-2b38bccbaf2a"
   },
   "outputs": [
    {
     "name": "stdout",
     "output_type": "stream",
     "text": [
      "Document id: 10\n",
      "Probability(christian) = 0.896\n",
      "True class: christian\n"
     ]
    }
   ],
   "source": [
    "idx = 10\n",
    "exp = explainer.explain_instance(newsgroups_test.data[idx], text_classification_pipeline.predict_proba, num_features=6)\n",
    "print(f'Document id: {idx}')\n",
    "print('Probability(christian) =', text_classification_pipeline.predict_proba([newsgroups_test.data[idx]])[0,1])\n",
    "print(f'True class: {class_names[newsgroups_test.target[idx]]}')"
   ]
  },
  {
   "cell_type": "code",
   "execution_count": 46,
   "metadata": {
    "colab": {
     "base_uri": "https://localhost:8080/"
    },
    "id": "f2a7yI7_IaNw",
    "outputId": "eebf9702-49d0-4e7f-bec8-bdc360f52ecf"
   },
   "outputs": [
    {
     "data": {
      "text/plain": [
       "[('rutgers', 0.02862875347594591),\n",
       " ('1993', 0.02570765046354776),\n",
       " ('article', -0.025237006029613016),\n",
       " ('athos', 0.025145476245078822),\n",
       " ('Christ', 0.019681219171443456),\n",
       " ('Jesus', 0.015013305721909434)]"
      ]
     },
     "execution_count": 46,
     "metadata": {},
     "output_type": "execute_result"
    }
   ],
   "source": [
    "exp.as_list()"
   ]
  },
  {
   "cell_type": "code",
   "execution_count": 47,
   "metadata": {
    "colab": {
     "base_uri": "https://localhost:8080/"
    },
    "id": "MJzUZoKOIaNy",
    "outputId": "e11a1c36-2493-45b5-b6af-53ccfee52cfb"
   },
   "outputs": [
    {
     "name": "stdout",
     "output_type": "stream",
     "text": [
      "Original prediction: 0.896\n",
      "Prediction removing some features: 0.896\n",
      "Difference: 0.0\n"
     ]
    },
    {
     "name": "stderr",
     "output_type": "stream",
     "text": [
      "/home/user/.local/lib/python3.8/site-packages/scipy/sparse/_index.py:82: SparseEfficiencyWarning:\n",
      "\n",
      "Changing the sparsity structure of a csr_matrix is expensive. lil_matrix is more efficient.\n",
      "\n"
     ]
    }
   ],
   "source": [
    "print('Original prediction:', rf.predict_proba(test_vectors[idx])[0,1])\n",
    "tmp = test_vectors[idx].copy()\n",
    "tmp[0,vectorizer.vocabulary_['Posting']] = 0\n",
    "tmp[0,vectorizer.vocabulary_['Host']] = 0\n",
    "print('Prediction removing some features:', rf.predict_proba(tmp)[0,1])\n",
    "print('Difference:', rf.predict_proba(tmp)[0,1] - rf.predict_proba(test_vectors[idx])[0,1])"
   ]
  },
  {
   "cell_type": "code",
   "execution_count": 48,
   "metadata": {
    "colab": {
     "base_uri": "https://localhost:8080/",
     "height": 452
    },
    "id": "4vHGi3ZvIaNz",
    "outputId": "7813e982-fb6e-44a0-a8ad-b3052e93bf69"
   },
   "outputs": [
    {
     "data": {
      "image/png": "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\n",
      "text/plain": [
       "<figure size="" 432x288="" with="" 1="" axes="">"
      ]
     },
     "metadata": {
      "needs_background": "light"
     },
     "output_type": "display_data"
    }
   ],
   "source": [
    "%matplotlib inline\n",
    "fig = exp.as_pyplot_figure()"
   ]
  },
  {
   "cell_type": "code",
   "execution_count": 49,
   "metadata": {
    "colab": {
     "base_uri": "https://localhost:8080/",
     "height": 216
    },
    "id": "nQJD6TRtIaN0",
    "outputId": "77363907-5291-400e-9ce3-09ab71041a2b"
   },
   "outputs": [
    {
     "data": {
      "text/html": [
       "\n",
       "        <meta http-equiv="\&quot;content-type\&quot;" content="\&quot;text/html;" charset="UTF8\&quot;">\n",
       "        <script></script></figure></interpret.glassbox.decisiontree.regressiontree></interpret.glassbox.decisiontree.classificationtree></body></html>